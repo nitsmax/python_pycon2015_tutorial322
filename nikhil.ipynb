{
 "cells": [
  {
   "cell_type": "code",
   "execution_count": 1,
   "metadata": {
    "collapsed": true
   },
   "outputs": [],
   "source": [
    "from numpy import *"
   ]
  },
  {
   "cell_type": "code",
   "execution_count": 3,
   "metadata": {},
   "outputs": [
    {
     "data": {
      "text/plain": [
       "array([[ 4,  0,  6,  6,  7],\n",
       "       [ 6,  9,  5,  5,  7],\n",
       "       [ 9,  0,  2,  6,  3],\n",
       "       [ 0,  3,  7, 10,  8],\n",
       "       [ 4,  2,  5,  9,  8],\n",
       "       [ 3,  3,  5,  9,  7],\n",
       "       [ 3,  2,  8,  1,  7],\n",
       "       [ 8,  8,  1,  4, 10],\n",
       "       [10,  5,  2,  4,  4],\n",
       "       [ 1,  5,  4,  0,  1]])"
      ]
     },
     "execution_count": 3,
     "metadata": {},
     "output_type": "execute_result"
    }
   ],
   "source": [
    "num_movies = 10\n",
    "\n",
    "# define the number of users in our 'database'\n",
    "\n",
    "num_users = 5\n",
    "\n",
    "# randomly initialize some movie ratings \n",
    "# a 10 X 5 matrix\n",
    "\n",
    "ratings = random.randint(11, size = (num_movies, num_users))\n",
    "ratings"
   ]
  },
  {
   "cell_type": "code",
   "execution_count": 5,
   "metadata": {},
   "outputs": [
    {
     "data": {
      "text/plain": [
       "array([[1, 0, 1, 1, 1],\n",
       "       [1, 1, 1, 1, 1],\n",
       "       [1, 0, 1, 1, 1],\n",
       "       [0, 1, 1, 1, 1],\n",
       "       [1, 1, 1, 1, 1],\n",
       "       [1, 1, 1, 1, 1],\n",
       "       [1, 1, 1, 1, 1],\n",
       "       [1, 1, 1, 1, 1],\n",
       "       [1, 1, 1, 1, 1],\n",
       "       [1, 1, 1, 0, 1]])"
      ]
     },
     "execution_count": 5,
     "metadata": {},
     "output_type": "execute_result"
    }
   ],
   "source": [
    "did_rate = (ratings != 0) * 1\n",
    "did_rate"
   ]
  },
  {
   "cell_type": "code",
   "execution_count": null,
   "metadata": {
    "collapsed": true
   },
   "outputs": [],
   "source": []
  }
 ],
 "metadata": {
  "kernelspec": {
   "display_name": "Python 3",
   "language": "python",
   "name": "python3"
  },
  "language_info": {
   "codemirror_mode": {
    "name": "ipython",
    "version": 3
   },
   "file_extension": ".py",
   "mimetype": "text/x-python",
   "name": "python",
   "nbconvert_exporter": "python",
   "pygments_lexer": "ipython3",
   "version": "3.4.3"
  }
 },
 "nbformat": 4,
 "nbformat_minor": 2
}
