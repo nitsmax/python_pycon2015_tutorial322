{
 "cells": [
  {
   "cell_type": "code",
   "execution_count": 14,
   "metadata": {
    "collapsed": true
   },
   "outputs": [],
   "source": [
    "import os\n",
    "from surprise import SVD\n",
    "from surprise import Dataset, Reader, evaluate, print_perf, GridSearch,accuracy\n",
    "import pandas as pd "
   ]
  },
  {
   "cell_type": "code",
   "execution_count": 2,
   "metadata": {
    "collapsed": true
   },
   "outputs": [],
   "source": [
    "# path to dataset file\n",
    "file_path = os.path.expanduser('~/.surprise_data/ml-100k/ml-100k/u.data')\n",
    "\n",
    "# As we're loading a custom dataset, we need to define a reader. In the\n",
    "# movielens-100k dataset, each line has the following format:\n",
    "# 'user item rating timestamp', separated by '\\t' characters.\n",
    "reader = Reader(line_format='user item rating timestamp', sep='\\t')\n",
    "\n",
    "data = Dataset.load_from_file(file_path, reader=reader)\n",
    "data.split(n_folds=5)"
   ]
  },
  {
   "cell_type": "code",
   "execution_count": 4,
   "metadata": {
    "collapsed": true
   },
   "outputs": [],
   "source": [
    "param_grid = {'n_epochs': [5, 10], 'lr_all': [0.002, 0.005],\n",
    "              'reg_all': [0.4, 0.6]}\n",
    "\n",
    "grid_search = GridSearch(SVD, param_grid, measures=['RMSE', 'FCP'])"
   ]
  },
  {
   "cell_type": "code",
   "execution_count": 5,
   "metadata": {},
   "outputs": [
    {
     "name": "stdout",
     "output_type": "stream",
     "text": [
      "------------\n",
      "Parameters combination 1 of 8\n",
      "params:  {'lr_all': 0.002, 'n_epochs': 5, 'reg_all': 0.4}\n",
      "------------\n",
      "Mean RMSE: 0.9908\n",
      "Mean FCP : 0.6829\n",
      "------------\n",
      "------------\n",
      "Parameters combination 2 of 8\n",
      "params:  {'lr_all': 0.002, 'n_epochs': 5, 'reg_all': 0.6}\n",
      "------------\n",
      "Mean RMSE: 0.9977\n",
      "Mean FCP : 0.6844\n",
      "------------\n",
      "------------\n",
      "Parameters combination 3 of 8\n",
      "params:  {'lr_all': 0.002, 'n_epochs': 10, 'reg_all': 0.4}\n",
      "------------\n",
      "Mean RMSE: 0.9735\n",
      "Mean FCP : 0.6896\n",
      "------------\n",
      "------------\n",
      "Parameters combination 4 of 8\n",
      "params:  {'lr_all': 0.002, 'n_epochs': 10, 'reg_all': 0.6}\n",
      "------------\n",
      "Mean RMSE: 0.9821\n",
      "Mean FCP : 0.6903\n",
      "------------\n",
      "------------\n",
      "Parameters combination 5 of 8\n",
      "params:  {'lr_all': 0.005, 'n_epochs': 5, 'reg_all': 0.4}\n",
      "------------\n",
      "Mean RMSE: 0.9698\n",
      "Mean FCP : 0.6911\n",
      "------------\n",
      "------------\n",
      "Parameters combination 6 of 8\n",
      "params:  {'lr_all': 0.005, 'n_epochs': 5, 'reg_all': 0.6}\n",
      "------------\n",
      "Mean RMSE: 0.9790\n",
      "Mean FCP : 0.6912\n",
      "------------\n",
      "------------\n",
      "Parameters combination 7 of 8\n",
      "params:  {'lr_all': 0.005, 'n_epochs': 10, 'reg_all': 0.4}\n",
      "------------\n",
      "Mean RMSE: 0.9612\n",
      "Mean FCP : 0.6939\n",
      "------------\n",
      "------------\n",
      "Parameters combination 8 of 8\n",
      "params:  {'lr_all': 0.005, 'n_epochs': 10, 'reg_all': 0.6}\n",
      "------------\n",
      "Mean RMSE: 0.9714\n",
      "Mean FCP : 0.6943\n",
      "------------\n"
     ]
    }
   ],
   "source": [
    "grid_search.evaluate(data)"
   ]
  },
  {
   "cell_type": "code",
   "execution_count": 6,
   "metadata": {},
   "outputs": [
    {
     "name": "stdout",
     "output_type": "stream",
     "text": [
      "{'lr_all': 0.005, 'n_epochs': 10, 'reg_all': 0.4}\n"
     ]
    }
   ],
   "source": [
    "print(grid_search.best_params['RMSE'])"
   ]
  },
  {
   "cell_type": "code",
   "execution_count": 8,
   "metadata": {},
   "outputs": [
    {
     "name": "stdout",
     "output_type": "stream",
     "text": [
      "        FCP      RMSE  lr_all  n_epochs  \\\n",
      "0  0.682871  0.990792   0.002         5   \n",
      "1  0.684391  0.997680   0.002         5   \n",
      "2  0.689575  0.973467   0.002        10   \n",
      "3  0.690325  0.982126   0.002        10   \n",
      "4  0.691055  0.969812   0.005         5   \n",
      "5  0.691210  0.979038   0.005         5   \n",
      "6  0.693900  0.961165   0.005        10   \n",
      "7  0.694274  0.971369   0.005        10   \n",
      "\n",
      "                                              params  \\\n",
      "0   {'lr_all': 0.002, 'n_epochs': 5, 'reg_all': 0.4}   \n",
      "1   {'lr_all': 0.002, 'n_epochs': 5, 'reg_all': 0.6}   \n",
      "2  {'lr_all': 0.002, 'n_epochs': 10, 'reg_all': 0.4}   \n",
      "3  {'lr_all': 0.002, 'n_epochs': 10, 'reg_all': 0.6}   \n",
      "4   {'lr_all': 0.005, 'n_epochs': 5, 'reg_all': 0.4}   \n",
      "5   {'lr_all': 0.005, 'n_epochs': 5, 'reg_all': 0.6}   \n",
      "6  {'lr_all': 0.005, 'n_epochs': 10, 'reg_all': 0.4}   \n",
      "7  {'lr_all': 0.005, 'n_epochs': 10, 'reg_all': 0.6}   \n",
      "\n",
      "                                            scores  \n",
      "0  {'FCP': 0.682871181939, 'RMSE': 0.990791924177}  \n",
      "1  {'FCP': 0.684391209738, 'RMSE': 0.997679741357}  \n",
      "2  {'FCP': 0.689575172651, 'RMSE': 0.973467062773}  \n",
      "3  {'FCP': 0.690325355376, 'RMSE': 0.982125948441}  \n",
      "4  {'FCP': 0.691054649828, 'RMSE': 0.969812423665}  \n",
      "5  {'FCP': 0.691210006535, 'RMSE': 0.979037689052}  \n",
      "6  {'FCP': 0.693900398319, 'RMSE': 0.961164653554}  \n",
      "7  {'FCP': 0.694274235875, 'RMSE': 0.971369141072}  \n"
     ]
    }
   ],
   "source": [
    "results_df = pd.DataFrame.from_dict(grid_search.cv_results)\n",
    "print(results_df)"
   ]
  },
  {
   "cell_type": "code",
   "execution_count": 15,
   "metadata": {},
   "outputs": [
    {
     "name": "stdout",
     "output_type": "stream",
     "text": [
      "RMSE: 0.9312\n",
      "RMSE: 0.9422\n",
      "RMSE: 0.9337\n",
      "RMSE: 0.9385\n",
      "RMSE: 0.9366\n"
     ]
    }
   ],
   "source": [
    "algo = SVD()\n",
    "\n",
    "for trainset, testset in data.folds():\n",
    "\n",
    "    # train and test algorithm.\n",
    "    algo.train(trainset)\n",
    "    predictions = algo.test(testset)\n",
    "\n",
    "    # Compute and print Root Mean Squared Error\n",
    "    rmse = accuracy.rmse(predictions, verbose=True)"
   ]
  },
  {
   "cell_type": "code",
   "execution_count": 17,
   "metadata": {},
   "outputs": [],
   "source": [
    "data = Dataset.load_builtin('ml-100k')\n",
    "\n",
    "# Retrieve the trainset.\n",
    "trainset = data.build_full_trainset()\n",
    "\n",
    "# Build an algorithm, and train it.\n",
    "algo = SVD()\n",
    "algo.train(trainset)"
   ]
  },
  {
   "cell_type": "code",
   "execution_count": 18,
   "metadata": {},
   "outputs": [
    {
     "name": "stdout",
     "output_type": "stream",
     "text": [
      "user: 196        item: 302        r_ui = 4.00   est = 3.92   {'was_impossible': False}\n"
     ]
    }
   ],
   "source": [
    "uid = str(196)  # raw user id (as in the ratings file). They are **strings**!\n",
    "iid = str(302)  # raw item id (as in the ratings file). They are **strings**!\n",
    "\n",
    "# get a prediction for specific users and items.\n",
    "pred = algo.predict(uid, iid, r_ui=4, verbose=True)"
   ]
  },
  {
   "cell_type": "code",
   "execution_count": null,
   "metadata": {
    "collapsed": true
   },
   "outputs": [],
   "source": []
  }
 ],
 "metadata": {
  "kernelspec": {
   "display_name": "Python 3",
   "language": "python",
   "name": "python3"
  },
  "language_info": {
   "codemirror_mode": {
    "name": "ipython",
    "version": 3
   },
   "file_extension": ".py",
   "mimetype": "text/x-python",
   "name": "python",
   "nbconvert_exporter": "python",
   "pygments_lexer": "ipython3",
   "version": "3.4.3"
  }
 },
 "nbformat": 4,
 "nbformat_minor": 2
}
