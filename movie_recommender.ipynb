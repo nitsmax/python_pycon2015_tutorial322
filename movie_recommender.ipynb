{
 "cells": [
  {
   "cell_type": "code",
   "execution_count": 119,
   "metadata": {},
   "outputs": [
    {
     "data": {
      "text/plain": [
       "(9, 5)"
      ]
     },
     "execution_count": 119,
     "metadata": {},
     "output_type": "execute_result"
    }
   ],
   "source": [
    "from numpy import *\n",
    "\n",
    "# define the number of movies in our 'database'\n",
    "num_movies = 9\n",
    "\n",
    "# define the number of users in our 'database'\n",
    "\n",
    "num_users = 5\n",
    "\n",
    "# randomly initialize some movie ratings \n",
    "# a 10 X 5 matrix\n",
    "\n",
    "ratings = random.randint(11, size = (num_movies, num_users))\n",
    "\n",
    "did_rate = (ratings != 0) * 1\n",
    "\n",
    "# Let's make some ratings. A 10 X 1 column vector to store all the ratings I make\n",
    "\n",
    "ratings.shape"
   ]
  },
  {
   "cell_type": "code",
   "execution_count": 120,
   "metadata": {},
   "outputs": [
    {
     "data": {
      "text/plain": [
       "array([[0, 0, 0, 0, 0]])"
      ]
     },
     "execution_count": 120,
     "metadata": {},
     "output_type": "execute_result"
    }
   ],
   "source": [
    "new_movie_ratings = random.randint(1, size = (1, num_users))\n",
    "new_movie_ratings"
   ]
  },
  {
   "cell_type": "code",
   "execution_count": 121,
   "metadata": {},
   "outputs": [
    {
     "data": {
      "text/plain": [
       "array([[ 0,  0,  0,  0,  0],\n",
       "       [ 2,  3,  2,  1, 10],\n",
       "       [ 5,  3,  7,  0,  0],\n",
       "       [ 9,  3,  1, 10,  1],\n",
       "       [ 9,  2,  9, 10,  5],\n",
       "       [ 9,  3,  3,  0,  4],\n",
       "       [ 6,  1,  4,  6,  6],\n",
       "       [ 3,  5,  4,  4,  7],\n",
       "       [ 1,  5,  9,  1,  8],\n",
       "       [ 2, 10,  8,  8,  6]])"
      ]
     },
     "execution_count": 121,
     "metadata": {},
     "output_type": "execute_result"
    }
   ],
   "source": [
    "ratings = append(new_movie_ratings, ratings, axis = 0)\n",
    "did_rate = append(((new_movie_ratings != 0) * 1), did_rate, axis = 0)\n",
    "ratings"
   ]
  },
  {
   "cell_type": "code",
   "execution_count": 122,
   "metadata": {},
   "outputs": [
    {
     "data": {
      "text/plain": [
       "array([[0, 0, 0, 0, 0],\n",
       "       [1, 1, 1, 1, 1],\n",
       "       [1, 1, 1, 0, 0],\n",
       "       [1, 1, 1, 1, 1],\n",
       "       [1, 1, 1, 1, 1],\n",
       "       [1, 1, 1, 0, 1],\n",
       "       [1, 1, 1, 1, 1],\n",
       "       [1, 1, 1, 1, 1],\n",
       "       [1, 1, 1, 1, 1],\n",
       "       [1, 1, 1, 1, 1]])"
      ]
     },
     "execution_count": 122,
     "metadata": {},
     "output_type": "execute_result"
    }
   ],
   "source": [
    "did_rate"
   ]
  },
  {
   "cell_type": "code",
   "execution_count": 123,
   "metadata": {
    "collapsed": true
   },
   "outputs": [],
   "source": [
    "num_movies = ratings.shape[0]\n",
    "\n",
    "my_ratings = zeros((num_movies, 1))\n",
    "\n",
    "\n",
    "\n",
    "# I rate 3 movies\n",
    "\n",
    "my_ratings[1] = 8\n",
    "my_ratings[4] = 7\n",
    "my_ratings[7] = 3"
   ]
  },
  {
   "cell_type": "code",
   "execution_count": 124,
   "metadata": {},
   "outputs": [
    {
     "data": {
      "text/plain": [
       "array([[ 0.],\n",
       "       [ 8.],\n",
       "       [ 0.],\n",
       "       [ 0.],\n",
       "       [ 7.],\n",
       "       [ 0.],\n",
       "       [ 0.],\n",
       "       [ 3.],\n",
       "       [ 0.],\n",
       "       [ 0.]])"
      ]
     },
     "execution_count": 124,
     "metadata": {},
     "output_type": "execute_result"
    }
   ],
   "source": [
    "my_ratings"
   ]
  },
  {
   "cell_type": "code",
   "execution_count": 125,
   "metadata": {
    "collapsed": true
   },
   "outputs": [],
   "source": [
    "# Update ratings and did_rate\n",
    "# Update ratings and did_rate\n",
    "\n",
    "ratings = append(my_ratings, ratings, axis = 1)\n",
    "did_rate = append(((my_ratings != 0) * 1), did_rate, axis = 1)"
   ]
  },
  {
   "cell_type": "code",
   "execution_count": 126,
   "metadata": {},
   "outputs": [
    {
     "data": {
      "text/plain": [
       "(10, 6)"
      ]
     },
     "execution_count": 126,
     "metadata": {},
     "output_type": "execute_result"
    }
   ],
   "source": [
    "ratings.shape"
   ]
  },
  {
   "cell_type": "code",
   "execution_count": 127,
   "metadata": {
    "collapsed": true
   },
   "outputs": [],
   "source": [
    "# a function that normalizes a dataset\n",
    "\n",
    "def normalize_ratings(ratings, did_rate):\n",
    "    num_movies = ratings.shape[0]\n",
    "    \n",
    "    ratings_mean = zeros(shape = (num_movies, 1))\n",
    "    ratings_norm = zeros(shape = ratings.shape)\n",
    "    \n",
    "    for i in range(num_movies): \n",
    "        # Get all the indexes where there is a 1\n",
    "        idx = where(did_rate[i] == 1)[0]\n",
    "        #  Calculate mean rating of ith movie only from user's that gave a rating\n",
    "        ratings_mean[i] = mean(ratings[i, idx])\n",
    "        ratings_norm[i, idx] = ratings[i, idx] - ratings_mean[i]\n",
    "    \n",
    "    return ratings_norm, ratings_mean\n"
   ]
  },
  {
   "cell_type": "code",
   "execution_count": 128,
   "metadata": {},
   "outputs": [
    {
     "name": "stderr",
     "output_type": "stream",
     "text": [
      "/home/ubuntu/python-projects/env-2/lib/python3.5/site-packages/numpy/core/fromnumeric.py:2909: RuntimeWarning: Mean of empty slice.\n",
      "  out=out, **kwargs)\n",
      "/home/ubuntu/python-projects/env-2/lib/python3.5/site-packages/numpy/core/_methods.py:80: RuntimeWarning: invalid value encountered in double_scalars\n",
      "  ret = ret.dtype.type(ret / rcount)\n"
     ]
    }
   ],
   "source": [
    "# Normalize ratings\n",
    "ratings, ratings_mean = normalize_ratings(ratings, did_rate)"
   ]
  },
  {
   "cell_type": "code",
   "execution_count": 129,
   "metadata": {},
   "outputs": [
    {
     "data": {
      "text/plain": [
       "array([[ 0.        ,  0.        ,  0.        ,  0.        ,  0.        ,\n",
       "         0.        ],\n",
       "       [ 3.66666667, -2.33333333, -1.33333333, -2.33333333, -3.33333333,\n",
       "         5.66666667],\n",
       "       [ 0.        ,  0.        , -2.        ,  2.        ,  0.        ,\n",
       "         0.        ],\n",
       "       [ 0.        ,  4.2       , -1.8       , -3.8       ,  5.2       ,\n",
       "        -3.8       ],\n",
       "       [ 0.        ,  2.        , -5.        ,  2.        ,  3.        ,\n",
       "        -2.        ],\n",
       "       [ 0.        ,  4.25      , -1.75      , -1.75      ,  0.        ,\n",
       "        -0.75      ],\n",
       "       [ 0.        ,  1.4       , -3.6       , -0.6       ,  1.4       ,\n",
       "         1.4       ],\n",
       "       [-1.33333333, -1.33333333,  0.66666667, -0.33333333, -0.33333333,\n",
       "         2.66666667],\n",
       "       [ 0.        , -3.8       ,  0.2       ,  4.2       , -3.8       ,\n",
       "         3.2       ],\n",
       "       [ 0.        , -4.8       ,  3.2       ,  1.2       ,  1.2       ,\n",
       "        -0.8       ]])"
      ]
     },
     "execution_count": 129,
     "metadata": {},
     "output_type": "execute_result"
    }
   ],
   "source": [
    "ratings"
   ]
  },
  {
   "cell_type": "code",
   "execution_count": 148,
   "metadata": {},
   "outputs": [
    {
     "data": {
      "text/plain": [
       "array([[ 0.        ],\n",
       "       [ 4.33333333],\n",
       "       [ 5.        ],\n",
       "       [ 4.8       ],\n",
       "       [ 7.        ],\n",
       "       [ 4.75      ],\n",
       "       [ 4.6       ],\n",
       "       [ 4.33333333],\n",
       "       [ 4.8       ],\n",
       "       [ 6.8       ]])"
      ]
     },
     "execution_count": 148,
     "metadata": {},
     "output_type": "execute_result"
    }
   ],
   "source": [
    "ratings_mean[0] = 0\n",
    "ratings_mean"
   ]
  },
  {
   "cell_type": "code",
   "execution_count": 131,
   "metadata": {
    "collapsed": true
   },
   "outputs": [],
   "source": [
    "# Update some key variables now\n",
    "\n",
    "num_users = ratings.shape[1]\n",
    "num_features = 3"
   ]
  },
  {
   "cell_type": "code",
   "execution_count": 132,
   "metadata": {
    "collapsed": true
   },
   "outputs": [],
   "source": [
    "# Initialize Parameters theta (user_prefs), X (movie_features)\n",
    "\n",
    "movie_features = random.randn( num_movies, num_features )\n",
    "user_prefs = random.randn( num_users, num_features )\n",
    "initial_X_and_theta = r_[movie_features.T.flatten(), user_prefs.T.flatten()]"
   ]
  },
  {
   "cell_type": "code",
   "execution_count": 133,
   "metadata": {},
   "outputs": [
    {
     "data": {
      "text/plain": [
       "array([[-0.8513355 ,  0.14300732, -0.99740413],\n",
       "       [ 1.70404305,  0.72484476, -0.39452052],\n",
       "       [-0.33085261, -1.48620845, -0.15567242],\n",
       "       [-0.83138771,  1.81056635, -1.90218716],\n",
       "       [-0.8017672 , -1.8490249 , -0.11820789],\n",
       "       [-2.02711448,  1.53089275, -1.84184965],\n",
       "       [-0.15898463, -1.34413325,  1.70756455],\n",
       "       [ 0.73039197, -0.36461704,  0.17153173],\n",
       "       [-1.94134601, -0.66961412, -0.57772974],\n",
       "       [ 2.00847948, -0.65803738, -0.16730528]])"
      ]
     },
     "execution_count": 133,
     "metadata": {},
     "output_type": "execute_result"
    }
   ],
   "source": [
    "movie_features"
   ]
  },
  {
   "cell_type": "code",
   "execution_count": 134,
   "metadata": {},
   "outputs": [
    {
     "data": {
      "text/plain": [
       "array([[-1.09595491, -0.50415222,  0.96141491],\n",
       "       [ 0.72117662, -3.08826755,  0.91952496],\n",
       "       [-1.50326083,  0.57275938, -0.12230561],\n",
       "       [-0.44163551, -1.68556791, -0.58758646],\n",
       "       [ 0.26088895, -0.97421592,  1.3611566 ],\n",
       "       [ 0.5262364 , -0.15325263,  0.27479996]])"
      ]
     },
     "execution_count": 134,
     "metadata": {},
     "output_type": "execute_result"
    }
   ],
   "source": [
    "user_prefs"
   ]
  },
  {
   "cell_type": "code",
   "execution_count": 135,
   "metadata": {},
   "outputs": [
    {
     "data": {
      "text/plain": [
       "array([-0.8513355 ,  1.70404305, -0.33085261, -0.83138771, -0.8017672 ,\n",
       "       -2.02711448, -0.15898463,  0.73039197, -1.94134601,  2.00847948,\n",
       "        0.14300732,  0.72484476, -1.48620845,  1.81056635, -1.8490249 ,\n",
       "        1.53089275, -1.34413325, -0.36461704, -0.66961412, -0.65803738,\n",
       "       -0.99740413, -0.39452052, -0.15567242, -1.90218716, -0.11820789,\n",
       "       -1.84184965,  1.70756455,  0.17153173, -0.57772974, -0.16730528,\n",
       "       -1.09595491,  0.72117662, -1.50326083, -0.44163551,  0.26088895,\n",
       "        0.5262364 , -0.50415222, -3.08826755,  0.57275938, -1.68556791,\n",
       "       -0.97421592, -0.15325263,  0.96141491,  0.91952496, -0.12230561,\n",
       "       -0.58758646,  1.3611566 ,  0.27479996])"
      ]
     },
     "execution_count": 135,
     "metadata": {},
     "output_type": "execute_result"
    }
   ],
   "source": [
    "initial_X_and_theta"
   ]
  },
  {
   "cell_type": "code",
   "execution_count": 136,
   "metadata": {
    "collapsed": true
   },
   "outputs": [],
   "source": [
    "def unroll_params(X_and_theta, num_users, num_movies, num_features):\n",
    "\t# Retrieve the X and theta matrixes from X_and_theta, based on their dimensions (num_features, num_movies, num_movies)\n",
    "\t# --------------------------------------------------------------------------------------------------------------\n",
    "\t# Get the first 30 (10 * 3) rows in the 48 X 1 column vector\n",
    "\tfirst_30 = X_and_theta[:num_movies * num_features]\n",
    "\t# Reshape this column vector into a 10 X 3 matrix\n",
    "\tX = first_30.reshape((num_features, num_movies)).transpose()\n",
    "\t# Get the rest of the 18 the numbers, after the first 30\n",
    "\tlast_18 = X_and_theta[num_movies * num_features:]\n",
    "\t# Reshape this column vector into a 6 X 3 matrix\n",
    "\ttheta = last_18.reshape(num_features, num_users ).transpose()\n",
    "\treturn X, theta"
   ]
  },
  {
   "cell_type": "code",
   "execution_count": 137,
   "metadata": {
    "collapsed": true
   },
   "outputs": [],
   "source": [
    "def calculate_gradient(X_and_theta, ratings, did_rate, num_users, num_movies, num_features, reg_param):\n",
    "\tX, theta = unroll_params(X_and_theta, num_users, num_movies, num_features)\n",
    "\t\n",
    "\t# we multiply by did_rate because we only want to consider observations for which a rating was given\n",
    "\tdifference = X.dot( theta.T ) * did_rate - ratings\n",
    "\tX_grad = difference.dot( theta ) + reg_param * X\n",
    "\ttheta_grad = difference.T.dot( X ) + reg_param * theta\n",
    "\t\n",
    "\t# wrap the gradients back into a column vector \n",
    "\treturn r_[X_grad.T.flatten(), theta_grad.T.flatten()]"
   ]
  },
  {
   "cell_type": "code",
   "execution_count": 138,
   "metadata": {},
   "outputs": [
    {
     "data": {
      "text/plain": [
       "(48,)"
      ]
     },
     "execution_count": 138,
     "metadata": {},
     "output_type": "execute_result"
    }
   ],
   "source": [
    "reg_param = 30\n",
    "gradient = calculate_gradient(initial_X_and_theta, ratings, did_rate, num_users, num_movies, num_features, reg_param)\n",
    "gradient.shape"
   ]
  },
  {
   "cell_type": "code",
   "execution_count": 139,
   "metadata": {},
   "outputs": [],
   "source": [
    "def calculate_cost(X_and_theta, ratings, did_rate, num_users, num_movies, num_features, reg_param):\n",
    "\tX, theta = unroll_params(X_and_theta, num_users, num_movies, num_features)\n",
    "\t\n",
    "\t# we multiply (element-wise) by did_rate because we only want to consider observations for which a rating was given\n",
    "\tcost = sum( (X.dot( theta.T ) * did_rate - ratings) ** 2 ) / 2\n",
    "\t# '**' means an element-wise power\n",
    "\tregularization = (reg_param / 2) * (sum( theta**2 ) + sum(X**2))\n",
    "\treturn cost + regularization"
   ]
  },
  {
   "cell_type": "code",
   "execution_count": 140,
   "metadata": {
    "collapsed": true
   },
   "outputs": [],
   "source": [
    "\n",
    "cost = calculate_cost(initial_X_and_theta, ratings, did_rate, num_users, num_movies, num_features, reg_param)"
   ]
  },
  {
   "cell_type": "code",
   "execution_count": 141,
   "metadata": {},
   "outputs": [
    {
     "data": {
      "text/plain": [
       "1403.0735084349253"
      ]
     },
     "execution_count": 141,
     "metadata": {},
     "output_type": "execute_result"
    }
   ],
   "source": [
    "cost"
   ]
  },
  {
   "cell_type": "code",
   "execution_count": 142,
   "metadata": {
    "collapsed": true
   },
   "outputs": [],
   "source": [
    "# import these for advanced optimizations (like gradient descent)\n",
    "\n",
    "from scipy import optimize"
   ]
  },
  {
   "cell_type": "code",
   "execution_count": 143,
   "metadata": {},
   "outputs": [
    {
     "name": "stdout",
     "output_type": "stream",
     "text": [
      "Optimization terminated successfully.\n",
      "         Current function value: 174.508333\n",
      "         Iterations: 12\n",
      "         Function evaluations: 24\n",
      "         Gradient evaluations: 24\n"
     ]
    }
   ],
   "source": [
    "# regularization paramater\n",
    "\n",
    "reg_param = 30\n",
    "\n",
    "# perform gradient descent, find the minimum cost (sum of squared errors) and optimal values of X (movie_features) and Theta (user_prefs)\n",
    "\n",
    "minimized_cost_and_optimal_params = optimize.fmin_cg(calculate_cost, fprime=calculate_gradient, x0=initial_X_and_theta, \t\t\t\t\t\t\t\targs=(ratings, did_rate, num_users, num_movies, num_features, reg_param), \t\t\t\t\t\t\t\tmaxiter=100, disp=True, full_output=True ) \n",
    "\n",
    "cost, optimal_movie_features_and_user_prefs = minimized_cost_and_optimal_params[1], minimized_cost_and_optimal_params[0]\n",
    "\n",
    "\n",
    "# unroll once again\n",
    "\n",
    "movie_features, user_prefs = unroll_params(optimal_movie_features_and_user_prefs, num_users, num_movies, num_features)"
   ]
  },
  {
   "cell_type": "code",
   "execution_count": 154,
   "metadata": {},
   "outputs": [
    {
     "data": {
      "text/plain": [
       "array([[  1.87538127e-08,  -3.15026506e-09,   2.19715145e-08],\n",
       "       [ -3.34416535e-07,  -3.70530536e-07,   1.54242372e-07],\n",
       "       [  1.74992599e-08,   4.38311610e-08,  -1.25972114e-09],\n",
       "       [  3.88642679e-08,  -6.45794377e-08,   2.47421833e-08],\n",
       "       [  6.75343006e-08,   4.88397972e-08,  -8.19143269e-09],\n",
       "       [ -1.61189731e-07,  -1.06427809e-07,   1.10173652e-07],\n",
       "       [ -6.44767848e-08,  -1.85301383e-07,   8.25579333e-08],\n",
       "       [  2.39243320e-08,  -1.30265598e-07,   8.70723170e-08],\n",
       "       [  4.84044081e-08,   5.12927308e-08,   1.21274125e-08],\n",
       "       [  2.59895292e-07,   1.82079535e-07,  -1.38676869e-07]])"
      ]
     },
     "execution_count": 154,
     "metadata": {},
     "output_type": "execute_result"
    }
   ],
   "source": [
    "movie_features"
   ]
  },
  {
   "cell_type": "code",
   "execution_count": 155,
   "metadata": {},
   "outputs": [
    {
     "data": {
      "text/plain": [
       "array([[ -2.28888608e-07,  -1.10080155e-07,  -3.07789877e-08],\n",
       "       [ -2.83182737e-08,  -1.90855571e-07,   1.95560635e-08],\n",
       "       [  1.11309413e-07,   2.92331688e-07,  -2.32789617e-07],\n",
       "       [ -5.00807636e-08,   1.44175866e-07,  -4.71833550e-08],\n",
       "       [  1.22126746e-07,   2.07134014e-07,   3.36914623e-08],\n",
       "       [  6.94056839e-08,  -3.10906860e-07,   2.41193287e-07]])"
      ]
     },
     "execution_count": 155,
     "metadata": {},
     "output_type": "execute_result"
    }
   ],
   "source": [
    "user_prefs"
   ]
  },
  {
   "cell_type": "code",
   "execution_count": 156,
   "metadata": {},
   "outputs": [
    {
     "data": {
      "text/plain": [
       "array([[ -4.62201339e-15,   4.99846370e-16,  -3.94818688e-15,\n",
       "         -2.43008722e-15,   2.37806753e-15,   7.58044202e-15],\n",
       "       [  1.12584770e-13,   8.32042897e-14,  -1.81447548e-13,\n",
       "         -4.39513982e-14,  -1.12394029e-13,   1.29192302e-13],\n",
       "       [ -8.79154930e-15,  -8.88560530e-15,   1.50543196e-14,\n",
       "          5.50245719e-15,   1.11736101e-14,  -1.27166968e-14],\n",
       "       [ -2.54821305e-15,   1.17086362e-14,  -2.03123806e-14,\n",
       "         -1.24245678e-14,  -7.79663119e-15,   2.87432398e-14],\n",
       "       [ -2.05820005e-14,  -1.13939944e-14,   2.37015042e-14,\n",
       "          4.04585002e-15,   1.80881463e-14,  -1.24730822e-14],\n",
       "       [  4.52190494e-14,   2.70315181e-14,  -7.47014375e-14,\n",
       "         -1.24701793e-14,  -3.80184852e-14,   4.84747975e-14],\n",
       "       [  3.26149569e-14,   3.88061807e-14,  -8.05649688e-14,\n",
       "         -2.73823011e-14,  -4.34750616e-14,   7.30488350e-14],\n",
       "       [  6.18365237e-15,   2.58872111e-14,  -5.56872901e-14,\n",
       "         -2.40876683e-14,  -2.11270416e-14,   6.31622109e-14],\n",
       "       [ -1.70987988e-14,  -1.09230683e-14,   1.75592211e-14,\n",
       "          4.39883217e-15,   1.69445323e-14,  -9.66267034e-15],\n",
       "       [ -7.52620814e-14,  -4.48226533e-14,   1.14438945e-13,\n",
       "          1.97789599e-14,   6.47828047e-14,  -7.20194958e-14]])"
      ]
     },
     "execution_count": 156,
     "metadata": {},
     "output_type": "execute_result"
    }
   ],
   "source": [
    "# Make some predictions (movie recommendations). Dot product\n",
    "all_predictions = movie_features.dot( user_prefs.T )\n",
    "all_predictions"
   ]
  },
  {
   "cell_type": "code",
   "execution_count": 167,
   "metadata": {},
   "outputs": [
    {
     "data": {
      "text/plain": [
       "array([[ -4.62201339e-15],\n",
       "       [  8.66666667e+00],\n",
       "       [  1.00000000e+01],\n",
       "       [  9.60000000e+00],\n",
       "       [  1.40000000e+01],\n",
       "       [  9.50000000e+00],\n",
       "       [  9.20000000e+00],\n",
       "       [  8.66666667e+00],\n",
       "       [  9.60000000e+00],\n",
       "       [  1.36000000e+01]])"
      ]
     },
     "execution_count": 167,
     "metadata": {},
     "output_type": "execute_result"
    }
   ],
   "source": [
    "predictions_for_me = all_predictions[:, 0:1] + ratings_mean\n",
    "predictions_for_me"
   ]
  },
  {
   "cell_type": "code",
   "execution_count": 152,
   "metadata": {},
   "outputs": [
    {
     "data": {
      "text/plain": [
       "array([[ 0.],\n",
       "       [ 8.],\n",
       "       [ 0.],\n",
       "       [ 0.],\n",
       "       [ 7.],\n",
       "       [ 0.],\n",
       "       [ 0.],\n",
       "       [ 3.],\n",
       "       [ 0.],\n",
       "       [ 0.]])"
      ]
     },
     "execution_count": 152,
     "metadata": {},
     "output_type": "execute_result"
    }
   ],
   "source": [
    "my_ratings"
   ]
  },
  {
   "cell_type": "code",
   "execution_count": 164,
   "metadata": {
    "collapsed": true
   },
   "outputs": [],
   "source": [
    "predictions_for_me2 = all_predictions[:, 1:2] + ratings_mean"
   ]
  },
  {
   "cell_type": "code",
   "execution_count": 166,
   "metadata": {},
   "outputs": [
    {
     "data": {
      "text/plain": [
       "array([[  4.99846370e-16],\n",
       "       [  8.66666667e+00],\n",
       "       [  1.00000000e+01],\n",
       "       [  9.60000000e+00],\n",
       "       [  1.40000000e+01],\n",
       "       [  9.50000000e+00],\n",
       "       [  9.20000000e+00],\n",
       "       [  8.66666667e+00],\n",
       "       [  9.60000000e+00],\n",
       "       [  1.36000000e+01]])"
      ]
     },
     "execution_count": 166,
     "metadata": {},
     "output_type": "execute_result"
    }
   ],
   "source": [
    "predictions_for_me2"
   ]
  },
  {
   "cell_type": "code",
   "execution_count": null,
   "metadata": {
    "collapsed": true
   },
   "outputs": [],
   "source": []
  },
  {
   "cell_type": "code",
   "execution_count": null,
   "metadata": {
    "collapsed": true
   },
   "outputs": [],
   "source": []
  }
 ],
 "metadata": {
  "kernelspec": {
   "display_name": "Python 3",
   "language": "python",
   "name": "python3"
  },
  "language_info": {
   "codemirror_mode": {
    "name": "ipython",
    "version": 3
   },
   "file_extension": ".py",
   "mimetype": "text/x-python",
   "name": "python",
   "nbconvert_exporter": "python",
   "pygments_lexer": "ipython3",
   "version": "3.5.2"
  }
 },
 "nbformat": 4,
 "nbformat_minor": 2
}
