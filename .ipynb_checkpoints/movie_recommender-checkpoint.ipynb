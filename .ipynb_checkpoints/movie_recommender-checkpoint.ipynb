{
 "cells": [
  {
   "cell_type": "code",
   "execution_count": 86,
   "metadata": {},
   "outputs": [
    {
     "data": {
      "text/plain": [
       "(9, 5)"
      ]
     },
     "execution_count": 86,
     "metadata": {},
     "output_type": "execute_result"
    }
   ],
   "source": [
    "from numpy import *\n",
    "\n",
    "# define the number of movies in our 'database'\n",
    "num_movies = 9\n",
    "\n",
    "# define the number of users in our 'database'\n",
    "\n",
    "num_users = 5\n",
    "\n",
    "# randomly initialize some movie ratings \n",
    "# a 10 X 5 matrix\n",
    "\n",
    "ratings = random.randint(11, size = (num_movies, num_users))\n",
    "\n",
    "did_rate = (ratings != 0) * 1\n",
    "\n",
    "# Let's make some ratings. A 10 X 1 column vector to store all the ratings I make\n",
    "\n",
    "ratings.shape"
   ]
  },
  {
   "cell_type": "code",
   "execution_count": 87,
   "metadata": {},
   "outputs": [
    {
     "data": {
      "text/plain": [
       "array([[0, 0, 0, 0, 0]])"
      ]
     },
     "execution_count": 87,
     "metadata": {},
     "output_type": "execute_result"
    }
   ],
   "source": [
    "new_movie_ratings = random.randint(1, size = (1, num_users))\n",
    "new_movie_ratings"
   ]
  },
  {
   "cell_type": "code",
   "execution_count": 88,
   "metadata": {},
   "outputs": [
    {
     "data": {
      "text/plain": [
       "array([[ 0,  0,  0,  0,  0],\n",
       "       [ 6,  3,  4,  9,  6],\n",
       "       [ 3,  5,  8,  1,  6],\n",
       "       [ 0,  8,  1, 10,  0],\n",
       "       [ 5,  0,  3,  1,  2],\n",
       "       [10,  9,  1,  8,  2],\n",
       "       [ 9,  0,  9,  0,  7],\n",
       "       [ 9,  6,  0,  7,  5],\n",
       "       [ 4,  0,  0, 10,  0],\n",
       "       [ 7,  6,  6,  3,  1]])"
      ]
     },
     "execution_count": 88,
     "metadata": {},
     "output_type": "execute_result"
    }
   ],
   "source": [
    "ratings = append(new_movie_ratings, ratings, axis = 0)\n",
    "did_rate = append(((new_movie_ratings != 0) * 1), did_rate, axis = 0)\n",
    "ratings"
   ]
  },
  {
   "cell_type": "code",
   "execution_count": 89,
   "metadata": {},
   "outputs": [
    {
     "data": {
      "text/plain": [
       "array([[0, 0, 0, 0, 0],\n",
       "       [1, 1, 1, 1, 1],\n",
       "       [1, 1, 1, 1, 1],\n",
       "       [0, 1, 1, 1, 0],\n",
       "       [1, 0, 1, 1, 1],\n",
       "       [1, 1, 1, 1, 1],\n",
       "       [1, 0, 1, 0, 1],\n",
       "       [1, 1, 0, 1, 1],\n",
       "       [1, 0, 0, 1, 0],\n",
       "       [1, 1, 1, 1, 1]])"
      ]
     },
     "execution_count": 89,
     "metadata": {},
     "output_type": "execute_result"
    }
   ],
   "source": [
    "did_rate"
   ]
  },
  {
   "cell_type": "code",
   "execution_count": 90,
   "metadata": {
    "collapsed": true
   },
   "outputs": [],
   "source": [
    "num_movies = ratings.shape[0]\n",
    "\n",
    "my_ratings = zeros((num_movies, 1))\n",
    "\n",
    "\n",
    "\n",
    "# I rate 3 movies\n",
    "\n",
    "my_ratings[1] = 8\n",
    "my_ratings[4] = 7\n",
    "my_ratings[7] = 3"
   ]
  },
  {
   "cell_type": "code",
   "execution_count": 91,
   "metadata": {},
   "outputs": [
    {
     "data": {
      "text/plain": [
       "array([[ 0.],\n",
       "       [ 8.],\n",
       "       [ 0.],\n",
       "       [ 0.],\n",
       "       [ 7.],\n",
       "       [ 0.],\n",
       "       [ 0.],\n",
       "       [ 3.],\n",
       "       [ 0.],\n",
       "       [ 0.]])"
      ]
     },
     "execution_count": 91,
     "metadata": {},
     "output_type": "execute_result"
    }
   ],
   "source": [
    "my_ratings"
   ]
  },
  {
   "cell_type": "code",
   "execution_count": 92,
   "metadata": {
    "collapsed": true
   },
   "outputs": [],
   "source": [
    "# Update ratings and did_rate\n",
    "# Update ratings and did_rate\n",
    "\n",
    "ratings = append(my_ratings, ratings, axis = 1)\n",
    "did_rate = append(((my_ratings != 0) * 1), did_rate, axis = 1)"
   ]
  },
  {
   "cell_type": "code",
   "execution_count": 93,
   "metadata": {},
   "outputs": [
    {
     "data": {
      "text/plain": [
       "(10, 6)"
      ]
     },
     "execution_count": 93,
     "metadata": {},
     "output_type": "execute_result"
    }
   ],
   "source": [
    "ratings.shape"
   ]
  },
  {
   "cell_type": "code",
   "execution_count": 94,
   "metadata": {
    "collapsed": true
   },
   "outputs": [],
   "source": [
    "# a function that normalizes a dataset\n",
    "\n",
    "def normalize_ratings(ratings, did_rate):\n",
    "    num_movies = ratings.shape[0]\n",
    "    \n",
    "    ratings_mean = zeros(shape = (num_movies, 1))\n",
    "    ratings_norm = zeros(shape = ratings.shape)\n",
    "    \n",
    "    for i in range(num_movies): \n",
    "        # Get all the indexes where there is a 1\n",
    "        idx = where(did_rate[i] == 1)[0]\n",
    "        #  Calculate mean rating of ith movie only from user's that gave a rating\n",
    "        ratings_mean[i] = mean(ratings[i, idx])\n",
    "        ratings_norm[i, idx] = ratings[i, idx] - ratings_mean[i]\n",
    "    \n",
    "    return ratings_norm, ratings_mean\n"
   ]
  },
  {
   "cell_type": "code",
   "execution_count": 95,
   "metadata": {},
   "outputs": [
    {
     "name": "stderr",
     "output_type": "stream",
     "text": [
      "/home/ubuntu/python-projects/env-2/lib/python3.5/site-packages/numpy/core/fromnumeric.py:2909: RuntimeWarning: Mean of empty slice.\n",
      "  out=out, **kwargs)\n",
      "/home/ubuntu/python-projects/env-2/lib/python3.5/site-packages/numpy/core/_methods.py:80: RuntimeWarning: invalid value encountered in double_scalars\n",
      "  ret = ret.dtype.type(ret / rcount)\n"
     ]
    }
   ],
   "source": [
    "# Normalize ratings\n",
    "ratings, ratings_mean = normalize_ratings(ratings, did_rate)"
   ]
  },
  {
   "cell_type": "code",
   "execution_count": 96,
   "metadata": {},
   "outputs": [
    {
     "data": {
      "text/plain": [
       "array([[ 0.        ,  0.        ,  0.        ,  0.        ,  0.        ,\n",
       "         0.        ],\n",
       "       [ 2.        ,  0.        , -3.        , -2.        ,  3.        ,\n",
       "         0.        ],\n",
       "       [ 0.        , -1.6       ,  0.4       ,  3.4       , -3.6       ,\n",
       "         1.4       ],\n",
       "       [ 0.        ,  0.        ,  1.66666667, -5.33333333,  3.66666667,\n",
       "         0.        ],\n",
       "       [ 3.4       ,  1.4       ,  0.        , -0.6       , -2.6       ,\n",
       "        -1.6       ],\n",
       "       [ 0.        ,  4.        ,  3.        , -5.        ,  2.        ,\n",
       "        -4.        ],\n",
       "       [ 0.        ,  0.66666667,  0.        ,  0.66666667,  0.        ,\n",
       "        -1.33333333],\n",
       "       [-3.        ,  3.        ,  0.        ,  0.        ,  1.        ,\n",
       "        -1.        ],\n",
       "       [ 0.        , -3.        ,  0.        ,  0.        ,  3.        ,\n",
       "         0.        ],\n",
       "       [ 0.        ,  2.4       ,  1.4       ,  1.4       , -1.6       ,\n",
       "        -3.6       ]])"
      ]
     },
     "execution_count": 96,
     "metadata": {},
     "output_type": "execute_result"
    }
   ],
   "source": [
    "ratings"
   ]
  },
  {
   "cell_type": "code",
   "execution_count": 97,
   "metadata": {},
   "outputs": [
    {
     "data": {
      "text/plain": [
       "array([[ 0.        ],\n",
       "       [ 6.        ],\n",
       "       [ 4.6       ],\n",
       "       [ 6.33333333],\n",
       "       [ 3.6       ],\n",
       "       [ 6.        ],\n",
       "       [ 8.33333333],\n",
       "       [ 6.        ],\n",
       "       [ 7.        ],\n",
       "       [ 4.6       ]])"
      ]
     },
     "execution_count": 97,
     "metadata": {},
     "output_type": "execute_result"
    }
   ],
   "source": [
    "ratings_mean[0] = 0\n",
    "ratings_mean"
   ]
  },
  {
   "cell_type": "code",
   "execution_count": 98,
   "metadata": {
    "collapsed": true
   },
   "outputs": [],
   "source": [
    "# Update some key variables now\n",
    "\n",
    "num_users = ratings.shape[1]\n",
    "num_features = 3"
   ]
  },
  {
   "cell_type": "code",
   "execution_count": 99,
   "metadata": {
    "collapsed": true
   },
   "outputs": [],
   "source": [
    "# Initialize Parameters theta (user_prefs), X (movie_features)\n",
    "\n",
    "movie_features = random.randn( num_movies, num_features )\n",
    "user_prefs = random.randn( num_users, num_features )\n",
    "initial_X_and_theta = r_[movie_features.T.flatten(), user_prefs.T.flatten()]"
   ]
  },
  {
   "cell_type": "code",
   "execution_count": 100,
   "metadata": {},
   "outputs": [
    {
     "data": {
      "text/plain": [
       "array([[ 0.39082528, -0.59367393,  2.10589152],\n",
       "       [ 1.56122186, -0.90860043, -0.81856349],\n",
       "       [-0.89596692, -0.1167585 ,  1.00461793],\n",
       "       [ 0.45644953, -0.09263312,  0.84288179],\n",
       "       [ 0.79975848, -0.45667863,  0.64900662],\n",
       "       [-0.31276859, -2.3707364 ,  0.38534624],\n",
       "       [ 0.54070702,  0.27430852,  0.44927925],\n",
       "       [-0.44970853, -0.35684743, -0.31677747],\n",
       "       [ 0.08509238, -1.1782688 ,  0.75011064],\n",
       "       [ 0.39503843,  0.45048141,  1.04016242]])"
      ]
     },
     "execution_count": 100,
     "metadata": {},
     "output_type": "execute_result"
    }
   ],
   "source": [
    "movie_features"
   ]
  },
  {
   "cell_type": "code",
   "execution_count": 101,
   "metadata": {},
   "outputs": [
    {
     "data": {
      "text/plain": [
       "array([[-0.82463233, -0.14441201, -0.53663208],\n",
       "       [ 0.83014416, -1.60985109, -0.44577019],\n",
       "       [-0.94201008,  1.16921692,  0.51764936],\n",
       "       [ 0.43524497, -0.52529039, -2.60424846],\n",
       "       [-0.72760276,  1.06769048,  2.45309585],\n",
       "       [ 2.26683485,  0.24355872, -0.74216099]])"
      ]
     },
     "execution_count": 101,
     "metadata": {},
     "output_type": "execute_result"
    }
   ],
   "source": [
    "user_prefs"
   ]
  },
  {
   "cell_type": "code",
   "execution_count": 102,
   "metadata": {},
   "outputs": [
    {
     "data": {
      "text/plain": [
       "array([ 0.39082528,  1.56122186, -0.89596692,  0.45644953,  0.79975848,\n",
       "       -0.31276859,  0.54070702, -0.44970853,  0.08509238,  0.39503843,\n",
       "       -0.59367393, -0.90860043, -0.1167585 , -0.09263312, -0.45667863,\n",
       "       -2.3707364 ,  0.27430852, -0.35684743, -1.1782688 ,  0.45048141,\n",
       "        2.10589152, -0.81856349,  1.00461793,  0.84288179,  0.64900662,\n",
       "        0.38534624,  0.44927925, -0.31677747,  0.75011064,  1.04016242,\n",
       "       -0.82463233,  0.83014416, -0.94201008,  0.43524497, -0.72760276,\n",
       "        2.26683485, -0.14441201, -1.60985109,  1.16921692, -0.52529039,\n",
       "        1.06769048,  0.24355872, -0.53663208, -0.44577019,  0.51764936,\n",
       "       -2.60424846,  2.45309585, -0.74216099])"
      ]
     },
     "execution_count": 102,
     "metadata": {},
     "output_type": "execute_result"
    }
   ],
   "source": [
    "initial_X_and_theta"
   ]
  },
  {
   "cell_type": "code",
   "execution_count": 103,
   "metadata": {
    "collapsed": true
   },
   "outputs": [],
   "source": [
    "def unroll_params(X_and_theta, num_users, num_movies, num_features):\n",
    "\t# Retrieve the X and theta matrixes from X_and_theta, based on their dimensions (num_features, num_movies, num_movies)\n",
    "\t# --------------------------------------------------------------------------------------------------------------\n",
    "\t# Get the first 30 (10 * 3) rows in the 48 X 1 column vector\n",
    "\tfirst_30 = X_and_theta[:num_movies * num_features]\n",
    "\t# Reshape this column vector into a 10 X 3 matrix\n",
    "\tX = first_30.reshape((num_features, num_movies)).transpose()\n",
    "\t# Get the rest of the 18 the numbers, after the first 30\n",
    "\tlast_18 = X_and_theta[num_movies * num_features:]\n",
    "\t# Reshape this column vector into a 6 X 3 matrix\n",
    "\ttheta = last_18.reshape(num_features, num_users ).transpose()\n",
    "\treturn X, theta"
   ]
  },
  {
   "cell_type": "code",
   "execution_count": 104,
   "metadata": {
    "collapsed": true
   },
   "outputs": [],
   "source": [
    "def calculate_gradient(X_and_theta, ratings, did_rate, num_users, num_movies, num_features, reg_param):\n",
    "\tX, theta = unroll_params(X_and_theta, num_users, num_movies, num_features)\n",
    "\t\n",
    "\t# we multiply by did_rate because we only want to consider observations for which a rating was given\n",
    "\tdifference = X.dot( theta.T ) * did_rate - ratings\n",
    "\tX_grad = difference.dot( theta ) + reg_param * X\n",
    "\ttheta_grad = difference.T.dot( X ) + reg_param * theta\n",
    "\t\n",
    "\t# wrap the gradients back into a column vector \n",
    "\treturn r_[X_grad.T.flatten(), theta_grad.T.flatten()]"
   ]
  },
  {
   "cell_type": "code",
   "execution_count": 105,
   "metadata": {},
   "outputs": [
    {
     "data": {
      "text/plain": [
       "(48,)"
      ]
     },
     "execution_count": 105,
     "metadata": {},
     "output_type": "execute_result"
    }
   ],
   "source": [
    "reg_param = 30\n",
    "gradient = calculate_gradient(initial_X_and_theta, ratings, did_rate, num_users, num_movies, num_features, reg_param)\n",
    "gradient.shape"
   ]
  },
  {
   "cell_type": "code",
   "execution_count": 112,
   "metadata": {},
   "outputs": [],
   "source": [
    "def calculate_cost(X_and_theta, ratings, did_rate, num_users, num_movies, num_features, reg_param):\n",
    "\tX, theta = unroll_params(X_and_theta, num_users, num_movies, num_features)\n",
    "\t\n",
    "\t# we multiply (element-wise) by did_rate because we only want to consider observations for which a rating was given\n",
    "\tcost = sum( (X.dot( theta.T ) * did_rate - ratings) ** 2 ) / 2\n",
    "\t# '**' means an element-wise power\n",
    "\tregularization = (reg_param / 2) * (sum( theta**2 ) + sum(X**2))\n",
    "\treturn cost + regularization"
   ]
  },
  {
   "cell_type": "code",
   "execution_count": 113,
   "metadata": {
    "collapsed": true
   },
   "outputs": [],
   "source": [
    "\n",
    "cost = calculate_cost(initial_X_and_theta, ratings, did_rate, num_users, num_movies, num_features, reg_param)"
   ]
  },
  {
   "cell_type": "code",
   "execution_count": 114,
   "metadata": {},
   "outputs": [
    {
     "data": {
      "text/plain": [
       "993.90653624343747"
      ]
     },
     "execution_count": 114,
     "metadata": {},
     "output_type": "execute_result"
    }
   ],
   "source": [
    "cost"
   ]
  },
  {
   "cell_type": "code",
   "execution_count": 115,
   "metadata": {
    "collapsed": true
   },
   "outputs": [],
   "source": [
    "# import these for advanced optimizations (like gradient descent)\n",
    "\n",
    "from scipy import optimize"
   ]
  },
  {
   "cell_type": "code",
   "execution_count": 116,
   "metadata": {},
   "outputs": [
    {
     "name": "stdout",
     "output_type": "stream",
     "text": [
      "Optimization terminated successfully.\n",
      "         Current function value: 129.466667\n",
      "         Iterations: 11\n",
      "         Function evaluations: 23\n",
      "         Gradient evaluations: 23\n"
     ]
    }
   ],
   "source": [
    "# regularization paramater\n",
    "\n",
    "reg_param = 30\n",
    "\n",
    "# perform gradient descent, find the minimum cost (sum of squared errors) and optimal values of X (movie_features) and Theta (user_prefs)\n",
    "\n",
    "minimized_cost_and_optimal_params = optimize.fmin_cg(calculate_cost, fprime=calculate_gradient, x0=initial_X_and_theta, \t\t\t\t\t\t\t\targs=(ratings, did_rate, num_users, num_movies, num_features, reg_param), \t\t\t\t\t\t\t\tmaxiter=100, disp=True, full_output=True ) \n",
    "\n",
    "cost, optimal_movie_features_and_user_prefs = minimized_cost_and_optimal_params[1], minimized_cost_and_optimal_params[0]\n",
    "\n",
    "\n",
    "# unroll once again\n",
    "\n",
    "movie_features, user_prefs = unroll_params(optimal_movie_features_and_user_prefs, num_users, num_movies, num_features)"
   ]
  },
  {
   "cell_type": "code",
   "execution_count": 117,
   "metadata": {},
   "outputs": [
    {
     "data": {
      "text/plain": [
       "array([[ -3.01368625e-15,  -5.94602539e-15,  -2.71242537e-15,\n",
       "          1.79869933e-14,  -1.37139280e-14,   6.04512169e-15],\n",
       "       [  1.86025582e-14,  -1.10138727e-14,   9.73383452e-15,\n",
       "         -1.62666868e-15,   2.55892135e-14,  -3.77806794e-14],\n",
       "       [ -6.55809773e-15,  -2.95689707e-14,  -2.34370693e-14,\n",
       "          8.26504608e-14,  -8.20142175e-14,   5.03258159e-14],\n",
       "       [ -1.26095066e-15,   2.91290587e-14,   2.43943512e-14,\n",
       "         -7.24100282e-14,   7.71092663e-14,  -4.88263720e-14],\n",
       "       [  2.42109425e-14,  -3.16249870e-14,   1.41477958e-15,\n",
       "          4.06326101e-14,  -6.33607130e-15,  -2.77839310e-14],\n",
       "       [  1.86966447e-14,   4.14617013e-14,   2.96289857e-14,\n",
       "         -1.26399657e-13,   1.16127873e-13,  -6.74643930e-14],\n",
       "       [  3.24163283e-16,   8.01581642e-15,   4.36248373e-15,\n",
       "         -1.99115918e-14,   1.68575478e-14,  -7.96787140e-15],\n",
       "       [ -4.79653724e-15,   2.70552198e-14,   2.64279231e-15,\n",
       "         -5.56686485e-14,   2.67147430e-14,   6.03085652e-15],\n",
       "       [ -4.68886727e-15,   1.85525392e-14,   7.24490482e-15,\n",
       "         -3.83928563e-14,   2.85262325e-14,  -8.58181584e-15],\n",
       "       [  3.88831207e-15,   1.77767253e-14,   8.62359997e-15,\n",
       "         -4.76730417e-14,   3.78195614e-14,  -1.67044348e-14]])"
      ]
     },
     "execution_count": 117,
     "metadata": {},
     "output_type": "execute_result"
    }
   ],
   "source": [
    "# Make some predictions (movie recommendations). Dot product\n",
    "all_predictions = movie_features.dot( user_prefs.T )\n",
    "all_predictions"
   ]
  },
  {
   "cell_type": "code",
   "execution_count": 118,
   "metadata": {},
   "outputs": [
    {
     "data": {
      "text/plain": [
       "array([[ -3.01368625e-15,  -5.94602539e-15,  -2.71242537e-15,\n",
       "          1.79869933e-14,  -1.37139280e-14,   6.04512169e-15],\n",
       "       [  6.00000000e+00,   6.00000000e+00,   6.00000000e+00,\n",
       "          6.00000000e+00,   6.00000000e+00,   6.00000000e+00],\n",
       "       [  4.60000000e+00,   4.60000000e+00,   4.60000000e+00,\n",
       "          4.60000000e+00,   4.60000000e+00,   4.60000000e+00],\n",
       "       [  6.33333333e+00,   6.33333333e+00,   6.33333333e+00,\n",
       "          6.33333333e+00,   6.33333333e+00,   6.33333333e+00],\n",
       "       [  3.60000000e+00,   3.60000000e+00,   3.60000000e+00,\n",
       "          3.60000000e+00,   3.60000000e+00,   3.60000000e+00],\n",
       "       [  6.00000000e+00,   6.00000000e+00,   6.00000000e+00,\n",
       "          6.00000000e+00,   6.00000000e+00,   6.00000000e+00],\n",
       "       [  8.33333333e+00,   8.33333333e+00,   8.33333333e+00,\n",
       "          8.33333333e+00,   8.33333333e+00,   8.33333333e+00],\n",
       "       [  6.00000000e+00,   6.00000000e+00,   6.00000000e+00,\n",
       "          6.00000000e+00,   6.00000000e+00,   6.00000000e+00],\n",
       "       [  7.00000000e+00,   7.00000000e+00,   7.00000000e+00,\n",
       "          7.00000000e+00,   7.00000000e+00,   7.00000000e+00],\n",
       "       [  4.60000000e+00,   4.60000000e+00,   4.60000000e+00,\n",
       "          4.60000000e+00,   4.60000000e+00,   4.60000000e+00]])"
      ]
     },
     "execution_count": 118,
     "metadata": {},
     "output_type": "execute_result"
    }
   ],
   "source": [
    "all_predictions = all_predictions + ratings_mean\n",
    "all_predictions"
   ]
  },
  {
   "cell_type": "code",
   "execution_count": null,
   "metadata": {
    "collapsed": true
   },
   "outputs": [],
   "source": [
    "predictions_for_me = all_predictions[:, 0:1]"
   ]
  },
  {
   "cell_type": "code",
   "execution_count": 75,
   "metadata": {},
   "outputs": [
    {
     "data": {
      "text/plain": [
       "array([[ 0.],\n",
       "       [ 8.],\n",
       "       [ 0.],\n",
       "       [ 0.],\n",
       "       [ 7.],\n",
       "       [ 0.],\n",
       "       [ 0.],\n",
       "       [ 3.],\n",
       "       [ 0.],\n",
       "       [ 0.]])"
      ]
     },
     "execution_count": 75,
     "metadata": {},
     "output_type": "execute_result"
    }
   ],
   "source": [
    "my_ratings"
   ]
  },
  {
   "cell_type": "code",
   "execution_count": null,
   "metadata": {
    "collapsed": true
   },
   "outputs": [],
   "source": []
  }
 ],
 "metadata": {
  "kernelspec": {
   "display_name": "Python 3",
   "language": "python",
   "name": "python3"
  },
  "language_info": {
   "codemirror_mode": {
    "name": "ipython",
    "version": 3
   },
   "file_extension": ".py",
   "mimetype": "text/x-python",
   "name": "python",
   "nbconvert_exporter": "python",
   "pygments_lexer": "ipython3",
   "version": "3.5.2"
  }
 },
 "nbformat": 4,
 "nbformat_minor": 2
}
